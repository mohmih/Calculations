{
 "cells": [
  {
   "cell_type": "code",
   "execution_count": 1,
   "metadata": {},
   "outputs": [],
   "source": [
    "import sympy as sp\n",
    "from sympy.interactive import printing\n",
    "printing.init_printing(use_latex=True)\n",
    "\n",
    "from sympy import Symbol, Eq, cos, sin, pi, sqrt, Matrix,exp"
   ]
  },
  {
   "cell_type": "markdown",
   "metadata": {},
   "source": [
    "This notebook contains calculations of the full sensitivity function for a phase shift $\\delta \\varphi$ defined as:\n",
    "$$g_\\varphi (t) = 2 \\lim_{\\delta \\varphi \\rightarrow 0} \\frac{\\delta  P (\\Delta \\Phi,t)}{\\delta \\varphi}$$\n",
    "We consider an interferometer at mid-fringe i.e, $\\Delta \\Phi = \\pi/2$.\n"
   ]
  },
  {
   "cell_type": "markdown",
   "metadata": {},
   "source": [
    "# $\\text{Transfer Matrix }(\\hat{U})$"
   ]
  },
  {
   "cell_type": "code",
   "execution_count": 4,
   "metadata": {},
   "outputs": [
    {
     "data": {
      "image/png": "[encoded data removed]",
      "text/latex": [
       "$\\displaystyle \\hat{U} = \\left[\\begin{matrix}\\cos{\\left(\\frac{\\sqrt{\\Omega_\\mathrm{eff}^{2} + \\delta^{2}} \\left(t - t_{0}\\right)}{2} \\right)} - \\frac{i \\delta \\sin{\\left(\\frac{\\Omega_\\mathrm{eff} \\left(t - t_{0}\\right)}{2} \\right)}}{\\Omega_\\mathrm{eff}} & - \\frac{i \\Omega_\\mathrm{eff} e^{- i \\phi} \\sin{\\left(\\frac{\\Omega_\\mathrm{eff} \\left(t - t_{0}\\right)}{2} \\right)}}{\\sqrt{\\Omega_\\mathrm{eff}^{2} + \\delta^{2}}}\\\\- \\frac{i \\Omega_\\mathrm{eff} e^{i \\phi} \\sin{\\left(\\frac{\\Omega_\\mathrm{eff} \\left(t - t_{0}\\right)}{2} \\right)}}{\\sqrt{\\Omega_\\mathrm{eff}^{2} + \\delta^{2}}} & \\cos{\\left(\\frac{\\sqrt{\\Omega_\\mathrm{eff}^{2} + \\delta^{2}} \\left(t - t_{0}\\right)}{2} \\right)} + \\frac{i \\delta \\sin{\\left(\\frac{\\Omega_\\mathrm{eff} \\left(t - t_{0}\\right)}{2} \\right)}}{\\Omega_\\mathrm{eff}}\\end{matrix}\\right]$"
      ],
      "text/plain": [
       "          ⎡   ⎛   ________________________________         ⎞               ⎛\\O\n",
       "          ⎢   ⎜  ╱                    2         2          ⎟   ⅈ⋅\\delta⋅sin⎜──\n",
       "          ⎢   ⎜╲╱  \\Omega_\\mathrm{eff}  + \\delta  ⋅(t - t₀)⎟               ⎝  \n",
       "          ⎢cos⎜────────────────────────────────────────────⎟ - ───────────────\n",
       "          ⎢   ⎝                     2                      ⎠              \\Ome\n",
       "          ⎢                                                                   \n",
       "          ⎢                                                                   \n",
       "\\hat{U} = ⎢                                                                   \n",
       "          ⎢                                      ⅈ⋅\\phi    ⎛\\Omega_\\mathrm{eff\n",
       "          ⎢              -ⅈ⋅\\Omega_\\mathrm{eff}⋅ℯ      ⋅sin⎜──────────────────\n",
       "          ⎢                                                ⎝             2    \n",
       "          ⎢              ─────────────────────────────────────────────────────\n",
       "          ⎢                                ________________________________   \n",
       "          ⎢                               ╱                    2         2    \n",
       "          ⎣                             ╲╱  \\Omega_\\mathrm{eff}  + \\delta     \n",
       "\n",
       "mega_\\mathrm{eff}⋅(t - t₀)⎞                                        -ⅈ⋅\\phi    \n",
       "──────────────────────────⎟                -ⅈ⋅\\Omega_\\mathrm{eff}⋅ℯ       ⋅sin\n",
       "           2              ⎠                                                   \n",
       "───────────────────────────                ───────────────────────────────────\n",
       "ga_\\mathrm{eff}                                              _________________\n",
       "                                                            ╱                 \n",
       "                                                          ╲╱  \\Omega_\\mathrm{e\n",
       "                                                                              \n",
       "}⋅(t - t₀)⎞                     ⎛   ________________________________         ⎞\n",
       "──────────⎟                     ⎜  ╱                    2         2          ⎟\n",
       "          ⎠                     ⎜╲╱  \\Omega_\\mathrm{eff}  + \\delta  ⋅(t - t₀)⎟\n",
       "────────────                 cos⎜────────────────────────────────────────────⎟\n",
       "                                ⎝                     2                      ⎠\n",
       "                                                                              \n",
       "                                                                              \n",
       "\n",
       "⎛\\Omega_\\mathrm{eff}⋅(t - t₀)⎞               ⎤\n",
       "⎜────────────────────────────⎟               ⎥\n",
       "⎝             2              ⎠               ⎥\n",
       "───────────────────────────────              ⎥\n",
       "_______________                              ⎥\n",
       "   2         2                               ⎥\n",
       "ff}  + \\delta                                ⎥\n",
       "                                             ⎥\n",
       "               ⎛\\Omega_\\mathrm{eff}⋅(t - t₀)⎞⎥\n",
       "   ⅈ⋅\\delta⋅sin⎜────────────────────────────⎟⎥\n",
       "               ⎝             2              ⎠⎥\n",
       " + ──────────────────────────────────────────⎥\n",
       "              \\Omega_\\mathrm{eff}            ⎥\n",
       "                                             ⎥\n",
       "                                             ⎦"
      ]
     },
     "metadata": {},
     "output_type": "display_data"
    },
    {
     "data": {
      "image/png": "[encoded data removed]",
      "text/latex": [
       "$\\displaystyle \\hat{U}_\\mathrm{free} = \\left[\\begin{matrix}- \\frac{i \\delta \\left(t - t_{0}\\right)}{2} + 1 & 0\\\\0 & \\frac{i \\delta \\left(t - t_{0}\\right)}{2} + 1\\end{matrix}\\right]$"
      ],
      "text/plain": [
       "                        ⎡  ⅈ⋅\\delta⋅(t - t₀)                           ⎤\n",
       "                        ⎢- ───────────────── + 1            0          ⎥\n",
       "                        ⎢          2                                   ⎥\n",
       "\\hat{U}_\\mathrm{free} = ⎢                                              ⎥\n",
       "                        ⎢                         ⅈ⋅\\delta⋅(t - t₀)    ⎥\n",
       "                        ⎢           0             ───────────────── + 1⎥\n",
       "                        ⎣                                 2            ⎦"
      ]
     },
     "metadata": {},
     "output_type": "display_data"
    },
    {
     "name": "stdout",
     "output_type": "stream",
     "text": [
      "pi- Pulse:\n"
     ]
    },
    {
     "data": {
      "image/png": "[encoded data removed]",
      "text/latex": [
       "$\\displaystyle \\left[\\begin{matrix}0 & - i e^{- i \\phi}\\\\- i e^{i \\phi} & 0\\end{matrix}\\right]$"
      ],
      "text/plain": [
       "⎡                -ⅈ⋅\\phi⎤\n",
       "⎢    0       -ⅈ⋅ℯ       ⎥\n",
       "⎢                       ⎥\n",
       "⎢    ⅈ⋅\\phi             ⎥\n",
       "⎣-ⅈ⋅ℯ             0     ⎦"
      ]
     },
     "metadata": {},
     "output_type": "display_data"
    },
    {
     "name": "stdout",
     "output_type": "stream",
     "text": [
      "pi/2- Pulse:\n"
     ]
    },
    {
     "data": {
      "image/png": "[encoded data removed]",
      "text/latex": [
       "$\\displaystyle \\left[\\begin{matrix}\\frac{\\sqrt{2}}{2} & - \\frac{\\sqrt{2} i e^{- i \\phi}}{2}\\\\- \\frac{\\sqrt{2} i e^{i \\phi}}{2} & \\frac{\\sqrt{2}}{2}\\end{matrix}\\right]$"
      ],
      "text/plain": [
       "⎡                       -ⅈ⋅\\phi ⎤\n",
       "⎢      √2        -√2⋅ⅈ⋅ℯ        ⎥\n",
       "⎢      ──        ───────────────⎥\n",
       "⎢      2                2       ⎥\n",
       "⎢                               ⎥\n",
       "⎢       ⅈ⋅\\phi                  ⎥\n",
       "⎢-√2⋅ⅈ⋅ℯ               √2       ⎥\n",
       "⎢──────────────        ──       ⎥\n",
       "⎣      2               2        ⎦"
      ]
     },
     "metadata": {},
     "output_type": "display_data"
    }
   ],
   "source": [
    "omega_eff = sp.Symbol('\\Omega_\\mathrm{eff}', real=True, positive=True)\n",
    "\n",
    "def U(t, t0, phi, delta=0):\n",
    "    i = sp.I\n",
    "    omega_R = sqrt(omega_eff**2 + delta**2)\n",
    "    C = cos(omega_R*(t-t0)/2) + i*(delta/omega_eff)*sin(omega_eff*(t-t0)/2)\n",
    "    S = exp(i*phi)*omega_eff/omega_R*sin(omega_eff*(t-t0)/2)\n",
    "    return Matrix(([C.conjugate(), -i*S.conjugate()],[-i*S, C]))\n",
    "\n",
    "\n",
    "t = sp.Symbol('t', real=True, positive=True)\n",
    "t0 = sp.Symbol('t_0', real=True, positive=True)\n",
    "phi = sp.Symbol('\\phi', real=True, positive=True)\n",
    "delta = sp.Symbol('\\delta', real=True, positive=True)\n",
    "display(Eq(Symbol(\"\\hat{U}\"),U(t, t0, phi, delta), evaluate=False))\n",
    "\n",
    "def U_free(t, t0=0, delta=0):\n",
    "    I = Matrix(([1,0],[0,1]))\n",
    "    sigma_z = Matrix(([1,0],[0,-1]))\n",
    "    return I - sp.I*delta/2*(t-t0)*sigma_z\n",
    "\n",
    "display(Eq(Symbol(\"\\hat{U}_\\mathrm{free}\"),U_free(t, t0, delta), evaluate=False))\n",
    "\n",
    "tau = sp.Symbol(r'\\tau', real=True, positive=True)\n",
    "\n",
    "print(\"pi- Pulse:\")\n",
    "display(U(tau, 0, phi).subs(omega_eff, pi/tau))\n",
    "print(\"pi/2- Pulse:\")\n",
    "display(U(tau/2, 0, phi).subs(omega_eff, pi/tau))\n",
    "\n"
   ]
  },
  {
   "cell_type": "markdown",
   "metadata": {},
   "source": [
    "# $\\text{4-Pulse inteferometer with:} $ $\\Omega_R \\tau = \\pi$"
   ]
  },
  {
   "cell_type": "code",
   "execution_count": 5,
   "metadata": {},
   "outputs": [],
   "source": [
    "# Symbols used for displaying the equations\n",
    "P = sp.Symbol('P')\n",
    "g = sp.Symbol(r'g_\\varphi (t)')\n",
    "\n",
    "# Departure state\n",
    "psi_i = Matrix([0,1])\n",
    "# Finale state\n",
    "psi_f = Matrix([0,1]).transpose()\n",
    "\n",
    "# Small change of the phase at a time t\n",
    "dphi = sp.Symbol(r\"\\delta\\varphi\",real=True)\n",
    "\n",
    "def phi_i(n):\n",
    "    \"\"\" Returns a labeled phase symbol\"\"\"\n",
    "    return sp.Symbol(fr\"\\varphi_{{}}\".format(n), real=True)\n",
    "\n",
    "# Lasers phase at the four pulses\n",
    "phi_1, phi_2, phi_3, phi_4 = [phi_i(i+1) for i in range(4)]\n",
    "\n",
    "# Total phase for a 4-pulse interferometer (just to substitute)\n",
    "phase = sp.Symbol('\\Delta\\Phi')\n",
    "phi_tot = phi_1 -2*phi_2+2*phi_3- phi_4\n",
    "\n",
    "\n",
    "def matrix_product(pulses):\n",
    "    \"\"\" Given a set of evolution matrices, this will do the multiplication\"\"\"\n",
    "    #for i in range(4):\n",
    "    #    pulses[i] = sp.simplify(pulses[i].subs(omega_eff, pi/tau))\n",
    "    \n",
    "    # Use the the pi-pulse condition\n",
    "    for i in range(4):\n",
    "        pulses[i] = sp.simplify(pulses[i].subs(omega_eff, pi/tau))\n",
    "    \n",
    "    # Matrix product\n",
    "    evolution = pulses[0]\n",
    "    for i in range(3):\n",
    "        evolution *= pulses[i+1]\n",
    "    return evolution\n",
    "\n",
    "def probability(evolution, show=True):\n",
    "    # Given the evolution matrix, calculates the provbaility\n",
    "    amplitude = (psi_f*evolution*psi_i)[0]\n",
    "    \n",
    "    # Simplify with a \"DL\" (1st order) δφ\n",
    "    proba = (sp.Abs(amplitude)**2).series(dphi, n=2).removeO().rewrite(sin).simplify().rewrite(sin).simplify()\n",
    "    \n",
    "    # Replace \n",
    "    proba = proba.subs(phi_tot, phase).subs(tau, pi/omega_eff).simplify()\n",
    "    if show: display(Eq(P,proba, evaluate=False))\n",
    "    return proba\n",
    "\n",
    "def sensitivity_function(proba, show=True):\n",
    "    \"\"\"Caculate the sensitivity function at the mid-fringe given the probability function.\"\"\"\n",
    "    \n",
    "    # Probability at mid-fringe\n",
    "    midfringe = proba.subs(phase, pi/2)\n",
    "    \n",
    "    # Derivative of P with respect to δφ\n",
    "    dP_dPhi = sp.diff(midfringe, dphi).simplify()\n",
    "    \n",
    "    # Calculate the limit as d_phi goes to zero\n",
    "    sens = 2*dP_dPhi.series(dphi, n=1).removeO()\n",
    "    if show: display(Eq(g,sens, evaluate=False))\n",
    "    return sens\n",
    "\n",
    "def interferometer(pulses):\n",
    "    transfer_matrix = matrix_product(pulses)\n",
    "    proba = probability(transfer_matrix)\n",
    "    sens  = sensitivity_function(proba)\n",
    "    return sens\n",
    "\n",
    "def perturbated_pulse(duration, phase):\n",
    "    \"\"\" This will create a pulse with a phase perturbation\n",
    "    which occurs at time t inside of it. \"\"\"\n",
    "    pulse = U(duration, t, phase+dphi)*U(t, 0, phase)\n",
    "    # Taylor Series for d_phi (order 1)\n",
    "    pulse = pulse.applyfunc(lambda i: i.series(dphi, n=2).removeO().simplify())\n",
    "    return pulse\n"
   ]
  },
  {
   "cell_type": "markdown",
   "metadata": {},
   "source": [
    "### Easy case (Between pulses)"
   ]
  },
  {
   "cell_type": "code",
   "execution_count": 6,
   "metadata": {},
   "outputs": [
    {
     "name": "stdout",
     "output_type": "stream",
     "text": [
      "Between pulse 1 and pulse 2:\n"
     ]
    },
    {
     "data": {
      "image/png": "[encoded data removed]",
      "text/latex": [
       "$\\displaystyle P = - \\frac{\\delta\\varphi \\sin{\\left(\\Delta\\Phi \\right)}}{2} - \\frac{\\cos{\\left(\\Delta\\Phi \\right)}}{2} + \\frac{1}{2}$"
      ],
      "text/plain": [
       "      \\delta\\varphi⋅sin(\\Delta\\Phi)   cos(\\Delta\\Phi)   1\n",
       "P = - ───────────────────────────── - ─────────────── + ─\n",
       "                    2                        2          2"
      ]
     },
     "metadata": {},
     "output_type": "display_data"
    },
    {
     "data": {
      "image/png": "[encoded data removed]",
      "text/latex": [
       "$\\displaystyle g_\\varphi (t) = -1$"
      ],
      "text/plain": [
       "g_\\varphi (t) = -1"
      ]
     },
     "metadata": {},
     "output_type": "display_data"
    },
    {
     "name": "stdout",
     "output_type": "stream",
     "text": [
      "------------------------------------------------------------------\n",
      "Between pulse 2 and pulse 3:\n"
     ]
    },
    {
     "data": {
      "image/png": "[encoded data removed]",
      "text/latex": [
       "$\\displaystyle P = \\frac{\\delta\\varphi \\sin{\\left(\\Delta\\Phi \\right)}}{2} - \\frac{\\cos{\\left(\\Delta\\Phi \\right)}}{2} + \\frac{1}{2}$"
      ],
      "text/plain": [
       "    \\delta\\varphi⋅sin(\\Delta\\Phi)   cos(\\Delta\\Phi)   1\n",
       "P = ───────────────────────────── - ─────────────── + ─\n",
       "                  2                        2          2"
      ]
     },
     "metadata": {},
     "output_type": "display_data"
    },
    {
     "data": {
      "image/png": "[encoded data removed]",
      "text/latex": [
       "$\\displaystyle g_\\varphi (t) = 1$"
      ],
      "text/plain": [
       "g_\\varphi (t) = 1"
      ]
     },
     "metadata": {},
     "output_type": "display_data"
    },
    {
     "name": "stdout",
     "output_type": "stream",
     "text": [
      "------------------------------------------------------------------\n",
      "Between pulse 3 and pulse 4:\n"
     ]
    },
    {
     "data": {
      "image/png": "[encoded data removed]",
      "text/latex": [
       "$\\displaystyle P = - \\frac{\\delta\\varphi \\sin{\\left(\\Delta\\Phi \\right)}}{2} - \\frac{\\cos{\\left(\\Delta\\Phi \\right)}}{2} + \\frac{1}{2}$"
      ],
      "text/plain": [
       "      \\delta\\varphi⋅sin(\\Delta\\Phi)   cos(\\Delta\\Phi)   1\n",
       "P = - ───────────────────────────── - ─────────────── + ─\n",
       "                    2                        2          2"
      ]
     },
     "metadata": {},
     "output_type": "display_data"
    },
    {
     "data": {
      "image/png": "[encoded data removed]",
      "text/latex": [
       "$\\displaystyle g_\\varphi (t) = -1$"
      ],
      "text/plain": [
       "g_\\varphi (t) = -1"
      ]
     },
     "metadata": {},
     "output_type": "display_data"
    },
    {
     "name": "stdout",
     "output_type": "stream",
     "text": [
      "------------------------------------------------------------------\n"
     ]
    }
   ],
   "source": [
    "\n",
    "print(\"Between pulse 1 and pulse 2:\")\n",
    "pulses = [U(tau/2, 0, phi_4+dphi), U(tau, 0, phi_3+dphi), U(tau, 0, phi_2+dphi), U(tau/2, 0, phi_1)]\n",
    "interferometer(pulses)\n",
    "print(\"------------------------------------------------------------------\")\n",
    "\n",
    "print(\"Between pulse 2 and pulse 3:\")\n",
    "pulses = [U(tau/2, 0, phi_4+dphi), U(tau, 0, phi_3+dphi), U(tau, 0, phi_2), U(tau/2, 0, phi_1)]\n",
    "interferometer(pulses)\n",
    "print(\"------------------------------------------------------------------\")\n",
    "\n",
    "print(\"Between pulse 3 and pulse 4:\")\n",
    "pulses = [U(tau/2, 0, phi_4+dphi), U(tau, 0, phi_3), U(tau, 0, phi_2), U(tau/2, 0, phi_1)]\n",
    "interferometer(pulses)\n",
    "print(\"------------------------------------------------------------------\")\n",
    "\n"
   ]
  },
  {
   "cell_type": "markdown",
   "metadata": {},
   "source": [
    "### Inside pulses"
   ]
  },
  {
   "cell_type": "code",
   "execution_count": 8,
   "metadata": {},
   "outputs": [
    {
     "name": "stdout",
     "output_type": "stream",
     "text": [
      "Inside Pulse 1:\n"
     ]
    },
    {
     "data": {
      "image/png": "[encoded data removed]",
      "text/latex": [
       "$\\displaystyle P = - \\frac{\\delta\\varphi \\sin{\\left(\\Delta\\Phi \\right)} \\sin{\\left(\\Omega_\\mathrm{eff} t \\right)}}{2} - \\frac{\\cos{\\left(\\Delta\\Phi \\right)}}{2} + \\frac{1}{2}$"
      ],
      "text/plain": [
       "      \\delta\\varphi⋅sin(\\Delta\\Phi)⋅sin(\\Omega_\\mathrm{eff}⋅t)   cos(\\Delta\\Ph\n",
       "P = - ──────────────────────────────────────────────────────── - ─────────────\n",
       "                                 2                                      2     \n",
       "\n",
       "i)   1\n",
       "── + ─\n",
       "     2"
      ]
     },
     "metadata": {},
     "output_type": "display_data"
    },
    {
     "data": {
      "image/png": "[encoded data removed]",
      "text/latex": [
       "$\\displaystyle g_\\varphi (t) = - \\sin{\\left(\\Omega_\\mathrm{eff} t \\right)}$"
      ],
      "text/plain": [
       "g_\\varphi (t) = -sin(\\Omega_\\mathrm{eff}⋅t)"
      ]
     },
     "metadata": {},
     "output_type": "display_data"
    },
    {
     "name": "stdout",
     "output_type": "stream",
     "text": [
      "------------------------------------------------------------------\n",
      "Inside Pulse 2:\n"
     ]
    },
    {
     "data": {
      "image/png": "[encoded data removed]",
      "text/latex": [
       "$\\displaystyle P = \\delta\\varphi \\sin{\\left(\\Delta\\Phi \\right)} \\sin^{2}{\\left(\\frac{\\Omega_\\mathrm{eff} t}{2} \\right)} - \\frac{\\delta\\varphi \\sin{\\left(\\Delta\\Phi \\right)}}{2} - \\frac{\\cos{\\left(\\Delta\\Phi \\right)}}{2} + \\frac{1}{2}$"
      ],
      "text/plain": [
       "                                     2⎛\\Omega_\\mathrm{eff}⋅t⎞   \\delta\\varphi⋅\n",
       "P = \\delta\\varphi⋅sin(\\Delta\\Phi)⋅sin ⎜─────────────────────⎟ - ──────────────\n",
       "                                      ⎝          2          ⎠                 \n",
       "\n",
       "sin(\\Delta\\Phi)   cos(\\Delta\\Phi)   1\n",
       "─────────────── - ─────────────── + ─\n",
       "2                        2          2"
      ]
     },
     "metadata": {},
     "output_type": "display_data"
    },
    {
     "data": {
      "image/png": "[encoded data removed]",
      "text/latex": [
       "$\\displaystyle g_\\varphi (t) = - \\cos{\\left(\\Omega_\\mathrm{eff} t \\right)}$"
      ],
      "text/plain": [
       "g_\\varphi (t) = -cos(\\Omega_\\mathrm{eff}⋅t)"
      ]
     },
     "metadata": {},
     "output_type": "display_data"
    },
    {
     "name": "stdout",
     "output_type": "stream",
     "text": [
      "------------------------------------------------------------------\n",
      "Inside Pulse 3:\n"
     ]
    },
    {
     "data": {
      "image/png": "[encoded data removed]",
      "text/latex": [
       "$\\displaystyle P = \\delta\\varphi \\sin{\\left(\\Delta\\Phi \\right)} \\cos^{2}{\\left(\\frac{\\Omega_\\mathrm{eff} t}{2} \\right)} - \\frac{\\delta\\varphi \\sin{\\left(\\Delta\\Phi \\right)}}{2} - \\frac{\\cos{\\left(\\Delta\\Phi \\right)}}{2} + \\frac{1}{2}$"
      ],
      "text/plain": [
       "                                     2⎛\\Omega_\\mathrm{eff}⋅t⎞   \\delta\\varphi⋅\n",
       "P = \\delta\\varphi⋅sin(\\Delta\\Phi)⋅cos ⎜─────────────────────⎟ - ──────────────\n",
       "                                      ⎝          2          ⎠                 \n",
       "\n",
       "sin(\\Delta\\Phi)   cos(\\Delta\\Phi)   1\n",
       "─────────────── - ─────────────── + ─\n",
       "2                        2          2"
      ]
     },
     "metadata": {},
     "output_type": "display_data"
    },
    {
     "data": {
      "image/png": "[encoded data removed]",
      "text/latex": [
       "$\\displaystyle g_\\varphi (t) = \\cos{\\left(\\Omega_\\mathrm{eff} t \\right)}$"
      ],
      "text/plain": [
       "g_\\varphi (t) = cos(\\Omega_\\mathrm{eff}⋅t)"
      ]
     },
     "metadata": {},
     "output_type": "display_data"
    },
    {
     "name": "stdout",
     "output_type": "stream",
     "text": [
      "------------------------------------------------------------------\n",
      "Inside Pulse 4:\n"
     ]
    },
    {
     "data": {
      "image/png": "[encoded data removed]",
      "text/latex": [
       "$\\displaystyle P = - \\frac{\\delta\\varphi \\sin{\\left(\\Delta\\Phi \\right)} \\cos{\\left(\\Omega_\\mathrm{eff} t \\right)}}{2} - \\frac{\\cos{\\left(\\Delta\\Phi \\right)}}{2} + \\frac{1}{2}$"
      ],
      "text/plain": [
       "      \\delta\\varphi⋅sin(\\Delta\\Phi)⋅cos(\\Omega_\\mathrm{eff}⋅t)   cos(\\Delta\\Ph\n",
       "P = - ──────────────────────────────────────────────────────── - ─────────────\n",
       "                                 2                                      2     \n",
       "\n",
       "i)   1\n",
       "── + ─\n",
       "     2"
      ]
     },
     "metadata": {},
     "output_type": "display_data"
    },
    {
     "data": {
      "image/png": "[encoded data removed]",
      "text/latex": [
       "$\\displaystyle g_\\varphi (t) = - \\cos{\\left(\\Omega_\\mathrm{eff} t \\right)}$"
      ],
      "text/plain": [
       "g_\\varphi (t) = -cos(\\Omega_\\mathrm{eff}⋅t)"
      ]
     },
     "metadata": {},
     "output_type": "display_data"
    },
    {
     "name": "stdout",
     "output_type": "stream",
     "text": [
      "------------------------------------------------------------------\n"
     ]
    }
   ],
   "source": [
    "print(\"Inside Pulse 1:\")\n",
    "pulses = [U(tau/2, 0, phi_4+dphi), U(tau, 0, phi_3+dphi), U(tau, 0, phi_2+dphi), perturbated_pulse(tau/2, phi_1)]\n",
    "interferometer(pulses)\n",
    "print(\"------------------------------------------------------------------\")\n",
    "\n",
    "print(\"Inside Pulse 2:\")\n",
    "pulses = [U(tau/2, 0, phi_4+dphi), U(tau, 0, phi_3+dphi),perturbated_pulse(tau, phi_2),  U(tau/2, 0, phi_1)]\n",
    "interferometer(pulses)\n",
    "print(\"------------------------------------------------------------------\")\n",
    "\n",
    "print(\"Inside Pulse 3:\")\n",
    "pulses = [U(tau/2, 0, phi_4+dphi), perturbated_pulse(tau, phi_3), U(tau, 0, phi_2), U(tau/2, 0, phi_1)]\n",
    "interferometer(pulses)\n",
    "print(\"------------------------------------------------------------------\")\n",
    "\n",
    "print(\"Inside Pulse 4:\")\n",
    "pulses = [perturbated_pulse(tau/2, phi_4), U(tau, 0, phi_3) , U(tau, 0, phi_2), U(tau/2, 0, phi_1)]\n",
    "interferometer(pulses)\n",
    "print(\"------------------------------------------------------------------\")\n"
   ]
  },
  {
   "cell_type": "code",
   "execution_count": null,
   "metadata": {},
   "outputs": [],
   "source": []
  }
 ],
 "metadata": {
  "kernelspec": {
   "display_name": "Python 3",
   "language": "python",
   "name": "python3"
  },
  "language_info": {
   "codemirror_mode": {
    "name": "ipython",
    "version": 3
   },
   "file_extension": ".py",
   "mimetype": "text/x-python",
   "name": "python",
   "nbconvert_exporter": "python",
   "pygments_lexer": "ipython3",
   "version": "3.8.5"
  },
  "orig_nbformat": 4
 },
 "nbformat": 4,
 "nbformat_minor": 2
}
